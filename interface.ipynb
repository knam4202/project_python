{
 "cells": [
  {
   "attachments": {},
   "cell_type": "markdown",
   "metadata": {},
   "source": [
    "## Libraries"
   ]
  },
  {
   "cell_type": "code",
   "execution_count": 1,
   "metadata": {},
   "outputs": [],
   "source": [
    "import pandas as pd\n",
    "import ipywidgets as widgets\n",
    "from ipywidgets import interact \n",
    "from IPython.display import display, clear_output\n",
    "\n",
    "import matplotlib.pyplot as plt\n",
    "# import seaborn as sns\n"
   ]
  },
  {
   "attachments": {},
   "cell_type": "markdown",
   "metadata": {},
   "source": [
    "## Input files .csv"
   ]
  },
  {
   "cell_type": "code",
   "execution_count": 2,
   "metadata": {},
   "outputs": [
    {
     "name": "stdout",
     "output_type": "stream",
     "text": [
      "current path:  ./Sales-Reporting-main/\n"
     ]
    },
    {
     "data": {
      "application/vnd.jupyter.widget-view+json": {
       "model_id": "641d40b447244efcb5d352d2272e83e9",
       "version_major": 2,
       "version_minor": 0
      },
      "text/plain": [
       "HBox(children=(Text(value='', description='Files input: '), Button(description='Get dataframes', style=ButtonS…"
      ]
     },
     "execution_count": 2,
     "metadata": {},
     "output_type": "execute_result"
    },
    {
     "name": "stdout",
     "output_type": "stream",
     "text": [
      "Got dataframe successfully\n"
     ]
    }
   ],
   "source": [
    "path = './Sales-Reporting-main/'\n",
    "files = widgets.Text(description='Files input: ')\n",
    "\n",
    "def on_getdf(b):\n",
    "    dfs = []\n",
    "    filesList = files.value.split(', ')\n",
    "    for file in filesList:\n",
    "        df = pd.read_csv(path + file)\n",
    "        dfs.append(df)\n",
    "\n",
    "    mergerdf = pd.concat(dfs) \n",
    "    \n",
    "    tmp_name = mergerdf.columns[0]\n",
    "    mergerdf = mergerdf[mergerdf[tmp_name] != tmp_name]\n",
    "    mergerdf.dropna(subset=[tmp_name], inplace=True)\n",
    "\n",
    "    global result \n",
    "    result = mergerdf\n",
    "\n",
    "    print(\"Got dataframe successfully\")\n",
    "    \n",
    "getdf = widgets.Button(description='Get dataframes')\n",
    "getdf.on_click(on_getdf)\n",
    "\n",
    "print(\"current path: \", path)\n",
    "widgets.HBox([files, getdf])"
   ]
  },
  {
   "attachments": {},
   "cell_type": "markdown",
   "metadata": {},
   "source": [
    "## Output file:"
   ]
  },
  {
   "cell_type": "code",
   "execution_count": 3,
   "metadata": {},
   "outputs": [
    {
     "data": {
      "application/vnd.jupyter.widget-view+json": {
       "model_id": "6280898a69ed47fda1aef042b838b45f",
       "version_major": 2,
       "version_minor": 0
      },
      "text/plain": [
       "HBox(children=(Text(value='', description='Name of file: '), Button(description='Get file output', style=Butto…"
      ]
     },
     "execution_count": 3,
     "metadata": {},
     "output_type": "execute_result"
    },
    {
     "name": "stdout",
     "output_type": "stream",
     "text": [
      "Created file:  sales.csv\n"
     ]
    }
   ],
   "source": [
    "outfile = widgets.Text(description='Name of file: ')\n",
    "\n",
    "def on_getfile(b):\n",
    "    nameFile = outfile.value + '.csv'\n",
    "    result.to_csv(nameFile, index=False)\n",
    "    print(\"Created file: \", nameFile)\n",
    "getfile = widgets.Button(description='Get file output')\n",
    "getfile.on_click(on_getfile)\n",
    "\n",
    "widgets.HBox([outfile, getfile])"
   ]
  },
  {
   "attachments": {},
   "cell_type": "markdown",
   "metadata": {},
   "source": [
    "## Display dataframe:"
   ]
  },
  {
   "cell_type": "code",
   "execution_count": 4,
   "metadata": {},
   "outputs": [
    {
     "name": "stdout",
     "output_type": "stream",
     "text": [
      "(rows, columns) =  (9681, 6)\n"
     ]
    },
    {
     "data": {
      "text/html": [
       "<div>\n",
       "<style scoped>\n",
       "    .dataframe tbody tr th:only-of-type {\n",
       "        vertical-align: middle;\n",
       "    }\n",
       "\n",
       "    .dataframe tbody tr th {\n",
       "        vertical-align: top;\n",
       "    }\n",
       "\n",
       "    .dataframe thead th {\n",
       "        text-align: right;\n",
       "    }\n",
       "</style>\n",
       "<table border=\"1\" class=\"dataframe\">\n",
       "  <thead>\n",
       "    <tr style=\"text-align: right;\">\n",
       "      <th></th>\n",
       "      <th>Order ID</th>\n",
       "      <th>Product</th>\n",
       "      <th>Quantity Ordered</th>\n",
       "      <th>Price Each</th>\n",
       "      <th>Order Date</th>\n",
       "      <th>Purchase Address</th>\n",
       "    </tr>\n",
       "  </thead>\n",
       "  <tbody>\n",
       "    <tr>\n",
       "      <th>0</th>\n",
       "      <td>141234</td>\n",
       "      <td>iPhone</td>\n",
       "      <td>1</td>\n",
       "      <td>700</td>\n",
       "      <td>01/22/19 21:25</td>\n",
       "      <td>944 Walnut St, Boston, MA 02215</td>\n",
       "    </tr>\n",
       "    <tr>\n",
       "      <th>1</th>\n",
       "      <td>141235</td>\n",
       "      <td>Lightning Charging Cable</td>\n",
       "      <td>1</td>\n",
       "      <td>14.95</td>\n",
       "      <td>01/28/19 14:15</td>\n",
       "      <td>185 Maple St, Portland, OR 97035</td>\n",
       "    </tr>\n",
       "    <tr>\n",
       "      <th>2</th>\n",
       "      <td>141236</td>\n",
       "      <td>Wired Headphones</td>\n",
       "      <td>2</td>\n",
       "      <td>11.99</td>\n",
       "      <td>01/17/19 13:33</td>\n",
       "      <td>538 Adams St, San Francisco, CA 94016</td>\n",
       "    </tr>\n",
       "    <tr>\n",
       "      <th>3</th>\n",
       "      <td>141237</td>\n",
       "      <td>27in FHD Monitor</td>\n",
       "      <td>1</td>\n",
       "      <td>149.99</td>\n",
       "      <td>01/05/19 20:33</td>\n",
       "      <td>738 10th St, Los Angeles, CA 90001</td>\n",
       "    </tr>\n",
       "    <tr>\n",
       "      <th>4</th>\n",
       "      <td>141238</td>\n",
       "      <td>Wired Headphones</td>\n",
       "      <td>1</td>\n",
       "      <td>11.99</td>\n",
       "      <td>01/25/19 11:59</td>\n",
       "      <td>387 10th St, Austin, TX 73301</td>\n",
       "    </tr>\n",
       "  </tbody>\n",
       "</table>\n",
       "</div>"
      ],
      "text/plain": [
       "  Order ID                   Product Quantity Ordered Price Each  \\\n",
       "0   141234                    iPhone                1        700   \n",
       "1   141235  Lightning Charging Cable                1      14.95   \n",
       "2   141236          Wired Headphones                2      11.99   \n",
       "3   141237          27in FHD Monitor                1     149.99   \n",
       "4   141238          Wired Headphones                1      11.99   \n",
       "\n",
       "       Order Date                       Purchase Address  \n",
       "0  01/22/19 21:25        944 Walnut St, Boston, MA 02215  \n",
       "1  01/28/19 14:15       185 Maple St, Portland, OR 97035  \n",
       "2  01/17/19 13:33  538 Adams St, San Francisco, CA 94016  \n",
       "3  01/05/19 20:33     738 10th St, Los Angeles, CA 90001  \n",
       "4  01/25/19 11:59          387 10th St, Austin, TX 73301  "
      ]
     },
     "execution_count": 4,
     "metadata": {},
     "output_type": "execute_result"
    }
   ],
   "source": [
    "print(\"(rows, columns) = \", result.shape)\n",
    "result.head()"
   ]
  },
  {
   "attachments": {},
   "cell_type": "markdown",
   "metadata": {},
   "source": [
    "## Change types:"
   ]
  },
  {
   "cell_type": "code",
   "execution_count": 22,
   "metadata": {},
   "outputs": [
    {
     "data": {
      "application/vnd.jupyter.widget-view+json": {
       "model_id": "78ec78905a70462bb8bc0016cf262177",
       "version_major": 2,
       "version_minor": 0
      },
      "text/plain": [
       "VBox(children=(Dropdown(description='Order ID', options=('object', 'integer', 'float', 'datetime'), style=Desc…"
      ]
     },
     "metadata": {},
     "output_type": "display_data"
    },
    {
     "data": {
      "application/vnd.jupyter.widget-view+json": {
       "model_id": "e45086e65d274244a4b9eb9b248985da",
       "version_major": 2,
       "version_minor": 0
      },
      "text/plain": [
       "Button(description='Change types', style=ButtonStyle())"
      ]
     },
     "metadata": {},
     "output_type": "display_data"
    },
    {
     "data": {
      "application/vnd.jupyter.widget-view+json": {
       "model_id": "56d42b25cf6c43368e8f6f57bb32f2fb",
       "version_major": 2,
       "version_minor": 0
      },
      "text/plain": [
       "Output()"
      ]
     },
     "metadata": {},
     "output_type": "display_data"
    }
   ],
   "source": [
    "from IPython.display import clear_output\n",
    "\n",
    "VBox1 = widgets.VBox()\n",
    "oldType = result.dtypes\n",
    "for column in result.columns:\n",
    "    dr = widgets.Dropdown(\n",
    "        options=['object', 'integer', 'float', 'datetime'],\n",
    "        description=column,\n",
    "        disabled=False,\n",
    "        style={'description_width': '150px'}\n",
    "    )\n",
    "    VBox1.children = (*VBox1.children, dr)\n",
    "\n",
    "button = widgets.Button(description=\"Change types\")\n",
    "\n",
    "def on_change(b):\n",
    "    out.clear_output(wait=True)\n",
    "\n",
    "    with out:\n",
    "        for el in VBox1.children:\n",
    "            tmp_name = el.description\n",
    "            tmp_type = el.value\n",
    "            if tmp_type == \"integer\":\n",
    "                result[tmp_name] = pd.to_numeric(result[tmp_name], downcast=\"integer\")\n",
    "            elif tmp_type == \"float\":\n",
    "                result[tmp_name] = pd.to_numeric(result[tmp_name], downcast=\"float\")\n",
    "            elif tmp_type == \"datetime\":\n",
    "                result[tmp_name] = pd.to_datetime(result[tmp_name])\n",
    "        \n",
    "        print(\"Changed types successfully\")    \n",
    "        for col in result.columns:\n",
    "            print(\"{:<20}\\t{:<10}\\tto\\t{:<20}\".format(str(col), str(oldType[col]), str(result.dtypes[col])))\n",
    "   \n",
    "button.on_click(on_change)\n",
    "\n",
    "out = widgets.Output()\n",
    "\n",
    "display(VBox1)\n",
    "display(button)\n",
    "display(out)\n"
   ]
  },
  {
   "cell_type": "code",
   "execution_count": 8,
   "metadata": {},
   "outputs": [
    {
     "data": {
      "text/plain": [
       "Order ID                     int32\n",
       "Product                     object\n",
       "Quantity Ordered              int8\n",
       "Price Each                 float32\n",
       "Order Date          datetime64[ns]\n",
       "Purchase Address            object\n",
       "dtype: object"
      ]
     },
     "execution_count": 8,
     "metadata": {},
     "output_type": "execute_result"
    }
   ],
   "source": [
    "result.dtypes\n",
    "# result.head()"
   ]
  },
  {
   "attachments": {},
   "cell_type": "markdown",
   "metadata": {},
   "source": [
    "## General Informations:"
   ]
  },
  {
   "cell_type": "code",
   "execution_count": 9,
   "metadata": {},
   "outputs": [
    {
     "data": {
      "application/vnd.jupyter.widget-view+json": {
       "model_id": "9b060547d6674285924ee94cb1a98d11",
       "version_major": 2,
       "version_minor": 0
      },
      "text/plain": [
       "Tab(children=(GridBox(children=(GridBox(children=(Label(value='Rows', style=LabelStyle(font_size='15px', font_…"
      ]
     },
     "execution_count": 9,
     "metadata": {},
     "output_type": "execute_result"
    }
   ],
   "source": [
    "children = []\n",
    "title = []\n",
    "label_list = [\"Rows\", \"Unique\", \"First\", \"Last\", \"Type\", \"Mean\", \"Std\", \"Memory\"]\n",
    "\n",
    "for name_col in result.columns:\n",
    "    items1 = []\n",
    "    items2 = []\n",
    "    for i in range(8):\n",
    "        label = widgets.Label(label_list[i])\n",
    "        label.style.font_weight = \"bold\"\n",
    "        label.style.font_size = \"15px\"\n",
    "        if i==0:\n",
    "            label_data = widgets.Label(str(result[name_col].count())) \n",
    "        elif i==1:\n",
    "            label_data = widgets.Label(str(result[name_col].nunique()))\n",
    "        elif i==2:\n",
    "            label_data = widgets.Label(str(result[name_col].head(1)[0])) \n",
    "        elif i==3:\n",
    "            label_data = widgets.Label(str(result[name_col].tail(1).to_list().pop())) \n",
    "        elif i==4:\n",
    "            label_data = widgets.Label(str(result[name_col].dtype))\n",
    "        elif i==7:\n",
    "            label_data = widgets.Label(str(result.memory_usage()[name_col]//1024) +\" KB\") \n",
    "        else:\n",
    "            if result[name_col].dtype.kind in 'biufc':\n",
    "                if i==4:         \n",
    "                    label_data = widgets.Label(str(result[name_col].dtype)) \n",
    "                elif i==5:\n",
    "                    label_data = widgets.Label(str(round(result[name_col].mean(), 2))) \n",
    "                elif i==6:\n",
    "                    label_data = widgets.Label(str(round(result[name_col].std(), 2))) \n",
    "            else:\n",
    "                label_data = widgets.Label(\"NAN\")\n",
    "\n",
    "        label_data.style.font_size = \"15px\"\n",
    "\n",
    "        if i>=0 and i<=3:\n",
    "            items1.append(label)\n",
    "            items1.append(label_data)\n",
    "        else:\n",
    "            items2.append(label)\n",
    "            items2.append(label_data)\n",
    "    \n",
    "    title.append(name_col)\n",
    "    g1 = widgets.GridBox(items1, layout=widgets.Layout(grid_template_columns=\"repeat(2, 250px)\"))\n",
    "    g2 = widgets.GridBox(items2, layout=widgets.Layout(grid_template_columns=\"repeat(2, 150px)\"))\n",
    "\n",
    "    g = widgets.GridBox([g1, g2], layout=widgets.Layout(grid_template_columns=\"repeat(2, 500px)\"))\n",
    "\n",
    "    children.append(g)\n",
    "\n",
    "tab = widgets.Tab()\n",
    "tab.children = children\n",
    "tab.titles = title\n",
    "tab"
   ]
  },
  {
   "attachments": {},
   "cell_type": "markdown",
   "metadata": {},
   "source": [
    "## Modify dataframe:\n",
    "+ #### Insert\n",
    "+ #### Change\n",
    "+ #### Delete"
   ]
  },
  {
   "cell_type": "code",
   "execution_count": 79,
   "metadata": {},
   "outputs": [
    {
     "data": {
      "text/html": [
       "<div>\n",
       "<style scoped>\n",
       "    .dataframe tbody tr th:only-of-type {\n",
       "        vertical-align: middle;\n",
       "    }\n",
       "\n",
       "    .dataframe tbody tr th {\n",
       "        vertical-align: top;\n",
       "    }\n",
       "\n",
       "    .dataframe thead th {\n",
       "        text-align: right;\n",
       "    }\n",
       "</style>\n",
       "<table border=\"1\" class=\"dataframe\">\n",
       "  <thead>\n",
       "    <tr style=\"text-align: right;\">\n",
       "      <th></th>\n",
       "      <th>Order ID</th>\n",
       "      <th>Product</th>\n",
       "      <th>Quantity Ordered</th>\n",
       "      <th>Price Each</th>\n",
       "      <th>Order Date</th>\n",
       "      <th>Purchase Address</th>\n",
       "      <th>Sum</th>\n",
       "      <th>Day</th>\n",
       "      <th>City</th>\n",
       "    </tr>\n",
       "  </thead>\n",
       "  <tbody>\n",
       "    <tr>\n",
       "      <th>0</th>\n",
       "      <td>141234</td>\n",
       "      <td>iPhone</td>\n",
       "      <td>1</td>\n",
       "      <td>700.000000</td>\n",
       "      <td>2019-01-22 21:25:00</td>\n",
       "      <td>944 Walnut St, Boston, MA 02215</td>\n",
       "      <td>700.000000</td>\n",
       "      <td>22</td>\n",
       "      <td>Boston</td>\n",
       "    </tr>\n",
       "    <tr>\n",
       "      <th>1</th>\n",
       "      <td>141235</td>\n",
       "      <td>Lightning Charging Cable</td>\n",
       "      <td>1</td>\n",
       "      <td>14.950000</td>\n",
       "      <td>2019-01-28 14:15:00</td>\n",
       "      <td>185 Maple St, Portland, OR 97035</td>\n",
       "      <td>14.950000</td>\n",
       "      <td>28</td>\n",
       "      <td>Portland</td>\n",
       "    </tr>\n",
       "    <tr>\n",
       "      <th>2</th>\n",
       "      <td>141236</td>\n",
       "      <td>Wired Headphones</td>\n",
       "      <td>2</td>\n",
       "      <td>11.990000</td>\n",
       "      <td>2019-01-17 13:33:00</td>\n",
       "      <td>538 Adams St, San Francisco, CA 94016</td>\n",
       "      <td>23.980000</td>\n",
       "      <td>17</td>\n",
       "      <td>San Francisco</td>\n",
       "    </tr>\n",
       "    <tr>\n",
       "      <th>3</th>\n",
       "      <td>141237</td>\n",
       "      <td>27in FHD Monitor</td>\n",
       "      <td>1</td>\n",
       "      <td>149.990005</td>\n",
       "      <td>2019-01-05 20:33:00</td>\n",
       "      <td>738 10th St, Los Angeles, CA 90001</td>\n",
       "      <td>149.990005</td>\n",
       "      <td>5</td>\n",
       "      <td>Los Angeles</td>\n",
       "    </tr>\n",
       "    <tr>\n",
       "      <th>4</th>\n",
       "      <td>141238</td>\n",
       "      <td>Wired Headphones</td>\n",
       "      <td>1</td>\n",
       "      <td>11.990000</td>\n",
       "      <td>2019-01-25 11:59:00</td>\n",
       "      <td>387 10th St, Austin, TX 73301</td>\n",
       "      <td>11.990000</td>\n",
       "      <td>25</td>\n",
       "      <td>Austin</td>\n",
       "    </tr>\n",
       "    <tr>\n",
       "      <th>...</th>\n",
       "      <td>...</td>\n",
       "      <td>...</td>\n",
       "      <td>...</td>\n",
       "      <td>...</td>\n",
       "      <td>...</td>\n",
       "      <td>...</td>\n",
       "      <td>...</td>\n",
       "      <td>...</td>\n",
       "      <td>...</td>\n",
       "    </tr>\n",
       "    <tr>\n",
       "      <th>9718</th>\n",
       "      <td>150497</td>\n",
       "      <td>20in Monitor</td>\n",
       "      <td>1</td>\n",
       "      <td>109.989998</td>\n",
       "      <td>2019-01-26 19:09:00</td>\n",
       "      <td>95 8th St, Dallas, TX 75001</td>\n",
       "      <td>109.989998</td>\n",
       "      <td>26</td>\n",
       "      <td>Dallas</td>\n",
       "    </tr>\n",
       "    <tr>\n",
       "      <th>9719</th>\n",
       "      <td>150498</td>\n",
       "      <td>27in FHD Monitor</td>\n",
       "      <td>1</td>\n",
       "      <td>149.990005</td>\n",
       "      <td>2019-01-10 22:58:00</td>\n",
       "      <td>403 7th St, San Francisco, CA 94016</td>\n",
       "      <td>149.990005</td>\n",
       "      <td>10</td>\n",
       "      <td>San Francisco</td>\n",
       "    </tr>\n",
       "    <tr>\n",
       "      <th>9720</th>\n",
       "      <td>150499</td>\n",
       "      <td>ThinkPad Laptop</td>\n",
       "      <td>1</td>\n",
       "      <td>999.989990</td>\n",
       "      <td>2019-01-21 14:31:00</td>\n",
       "      <td>214 Main St, Portland, OR 97035</td>\n",
       "      <td>999.989990</td>\n",
       "      <td>21</td>\n",
       "      <td>Portland</td>\n",
       "    </tr>\n",
       "    <tr>\n",
       "      <th>9721</th>\n",
       "      <td>150500</td>\n",
       "      <td>AAA Batteries (4-pack)</td>\n",
       "      <td>2</td>\n",
       "      <td>2.990000</td>\n",
       "      <td>2019-01-15 14:21:00</td>\n",
       "      <td>810 2nd St, Los Angeles, CA 90001</td>\n",
       "      <td>5.980000</td>\n",
       "      <td>15</td>\n",
       "      <td>Los Angeles</td>\n",
       "    </tr>\n",
       "    <tr>\n",
       "      <th>9722</th>\n",
       "      <td>150501</td>\n",
       "      <td>Google Phone</td>\n",
       "      <td>1</td>\n",
       "      <td>600.000000</td>\n",
       "      <td>2019-01-13 16:43:00</td>\n",
       "      <td>428 Cedar St, Boston, MA 02215</td>\n",
       "      <td>600.000000</td>\n",
       "      <td>13</td>\n",
       "      <td>Boston</td>\n",
       "    </tr>\n",
       "  </tbody>\n",
       "</table>\n",
       "<p>9681 rows × 9 columns</p>\n",
       "</div>"
      ],
      "text/plain": [
       "      Order ID                   Product  Quantity Ordered  Price Each  \\\n",
       "0       141234                    iPhone                 1  700.000000   \n",
       "1       141235  Lightning Charging Cable                 1   14.950000   \n",
       "2       141236          Wired Headphones                 2   11.990000   \n",
       "3       141237          27in FHD Monitor                 1  149.990005   \n",
       "4       141238          Wired Headphones                 1   11.990000   \n",
       "...        ...                       ...               ...         ...   \n",
       "9718    150497              20in Monitor                 1  109.989998   \n",
       "9719    150498          27in FHD Monitor                 1  149.990005   \n",
       "9720    150499           ThinkPad Laptop                 1  999.989990   \n",
       "9721    150500    AAA Batteries (4-pack)                 2    2.990000   \n",
       "9722    150501              Google Phone                 1  600.000000   \n",
       "\n",
       "              Order Date                       Purchase Address         Sum  \\\n",
       "0    2019-01-22 21:25:00        944 Walnut St, Boston, MA 02215  700.000000   \n",
       "1    2019-01-28 14:15:00       185 Maple St, Portland, OR 97035   14.950000   \n",
       "2    2019-01-17 13:33:00  538 Adams St, San Francisco, CA 94016   23.980000   \n",
       "3    2019-01-05 20:33:00     738 10th St, Los Angeles, CA 90001  149.990005   \n",
       "4    2019-01-25 11:59:00          387 10th St, Austin, TX 73301   11.990000   \n",
       "...                  ...                                    ...         ...   \n",
       "9718 2019-01-26 19:09:00            95 8th St, Dallas, TX 75001  109.989998   \n",
       "9719 2019-01-10 22:58:00    403 7th St, San Francisco, CA 94016  149.990005   \n",
       "9720 2019-01-21 14:31:00        214 Main St, Portland, OR 97035  999.989990   \n",
       "9721 2019-01-15 14:21:00      810 2nd St, Los Angeles, CA 90001    5.980000   \n",
       "9722 2019-01-13 16:43:00         428 Cedar St, Boston, MA 02215  600.000000   \n",
       "\n",
       "      Day           City  \n",
       "0      22         Boston  \n",
       "1      28       Portland  \n",
       "2      17  San Francisco  \n",
       "3       5    Los Angeles  \n",
       "4      25         Austin  \n",
       "...   ...            ...  \n",
       "9718   26         Dallas  \n",
       "9719   10  San Francisco  \n",
       "9720   21       Portland  \n",
       "9721   15    Los Angeles  \n",
       "9722   13         Boston  \n",
       "\n",
       "[9681 rows x 9 columns]"
      ]
     },
     "execution_count": 79,
     "metadata": {},
     "output_type": "execute_result"
    }
   ],
   "source": [
    "# # Get sum price\n",
    "# result[\"Sum\"] = result[\"Quantity Ordered\"] * result[\"Price Each\"]\n",
    "# result\n",
    "\n",
    "# # Get hour\n",
    "# result[\"Hour\"] = result[\"Order Date\"].dt.hour\n",
    "\n",
    "# # Get day\n",
    "# result[\"Day\"] = result[\"Order Date\"].dt.day\n",
    "# result\n",
    "\n",
    "# # Get city\n",
    "# result[\"City\"] = result[\"Purchase Address\"].str.split(', ').str[1]\n",
    "# result\n",
    "\n",
    "# # Moving column\n",
    "# moving_column = result.pop(\"Sum\")\n",
    "# result.insert(4, \"Sum\", moving_column)\n",
    "\n",
    "# # Delete column\n",
    "# result.pop(\"Date\")\n",
    "# result"
   ]
  },
  {
   "attachments": {},
   "cell_type": "markdown",
   "metadata": {},
   "source": [
    "## Draw chart"
   ]
  },
  {
   "cell_type": "code",
   "execution_count": 80,
   "metadata": {},
   "outputs": [
    {
     "data": {
      "application/vnd.jupyter.widget-view+json": {
       "model_id": "5bdda6ef17964ae89feaeeef16a2e9d3",
       "version_major": 2,
       "version_minor": 0
      },
      "text/plain": [
       "HBox(children=(Dropdown(description='Type: ', options=('bar', 'line', 'histogram', 'pie', 'scatter', 'multi: l…"
      ]
     },
     "metadata": {},
     "output_type": "display_data"
    },
    {
     "data": {
      "application/vnd.jupyter.widget-view+json": {
       "model_id": "45431c7fbeaf49d783420f3d7c640a9b",
       "version_major": 2,
       "version_minor": 0
      },
      "text/plain": [
       "Output()"
      ]
     },
     "metadata": {},
     "output_type": "display_data"
    }
   ],
   "source": [
    "typeChart = widgets.Dropdown(\n",
    "            options = [\"bar\", \"line\", \"histogram\", \"pie\", \"scatter\", \"multi: line-line\", \"multi: bar-line\"],\n",
    "            description = 'Type: '\n",
    "        )\n",
    "\n",
    "setChart = widgets.Button(description='Set')\n",
    "\n",
    "def onSet(b):\n",
    "\n",
    "    out.clear_output(wait=True)\n",
    "\n",
    "    with out:\n",
    "        tChart = typeChart.value\n",
    "\n",
    "        if tChart in [\"bar\", \"line\", \"pie\", \"scatter\"]:\n",
    "            drX = widgets.Dropdown(\n",
    "                    options = result.columns,\n",
    "                    description = 'x-value: ',\n",
    "                    disabled = False,\n",
    "                )\n",
    "\n",
    "            drY = widgets.Dropdown(\n",
    "                    options = result.columns,\n",
    "                    description = 'y-value: ',\n",
    "                    disabled = False,\n",
    "                )\n",
    "\n",
    "\n",
    "            xLabel = widgets.Text(value=drX.value, description='x-label: ')\n",
    "            yLabel = widgets.Text(value=drY.value, description='y-label: ')\n",
    "            title = widgets.Text(description='Title: ')\n",
    "\n",
    "            def update_x_label(change):\n",
    "                xLabel.value = change.new\n",
    "            def update_y_label(change):\n",
    "                yLabel.value = change.new\n",
    "\n",
    "            drX.observe(update_x_label, 'value')\n",
    "            drY.observe(update_y_label, 'value')\n",
    "\n",
    "            draw = widgets.Button(description='Draw')\n",
    "\n",
    "            def onDraw(b):\n",
    "                temp = result.groupby(drX.value, as_index=False)[drY.value].sum()\n",
    "                if tChart == 'bar':\n",
    "                    plt.bar(x=temp[drX.value], height=temp[drY.value])\n",
    "                elif tChart == 'line':\n",
    "                    plt.plot(temp[drX.value], temp[drY.value])\n",
    "                    plt.grid(True)\n",
    "                elif tChart == 'pie':\n",
    "                    # explode = (0, 0, 0.1, 0)\n",
    "                    plt.pie(temp[drY.value], labels=temp[drX.value], autopct='%1.1f%%', startangle=90)\n",
    "                elif tChart == 'scatter':\n",
    "                    plt.scatter(temp[drX.value], temp[drY.value])\n",
    "\n",
    "                plt.xticks(rotation=90)\n",
    "                plt.xlabel(xLabel.value)\n",
    "                plt.ylabel(yLabel.value)\n",
    "                plt.title(title.value)\n",
    "\n",
    "                plt.show()\n",
    "\n",
    "                \n",
    "            draw.on_click(onDraw)\n",
    "\n",
    "            display(widgets.VBox([widgets.HBox([drX, xLabel]), widgets.HBox([drY, yLabel]), title, draw]))\n",
    "        \n",
    "        elif tChart in [\"multi: line-line\", \"multi: bar-line\"]:\n",
    "            drX = widgets.Dropdown(\n",
    "                    options = result.columns,\n",
    "                    description = 'x-value: ',\n",
    "                    disabled = False,\n",
    "                )\n",
    "\n",
    "            drY1 = widgets.Dropdown(\n",
    "                    options = result.columns,\n",
    "                    description = 'y1-value: ',\n",
    "                    disabled = False,\n",
    "                )\n",
    "            \n",
    "            drY2 = widgets.Dropdown(\n",
    "                    options = result.columns,\n",
    "                    description = 'y2-value: ',\n",
    "                    disabled = False,\n",
    "                )\n",
    "\n",
    "            xLabel = widgets.Text(value=drX.value, description='x-label: ')\n",
    "            y1Label = widgets.Text(value=drY1.value, description='y1-label: ')\n",
    "            y2Label = widgets.Text(value=drY2.value, description='y2-label: ')\n",
    "            title = widgets.Text(description='Title: ')\n",
    "\n",
    "            def update_x_label(change):\n",
    "                xLabel.value = change.new\n",
    "            def update_y1_label(change):\n",
    "                y1Label.value = change.new\n",
    "            def update_y2_label(change):\n",
    "                y2Label.value = change.new\n",
    "\n",
    "            drX.observe(update_x_label, 'value')\n",
    "            drY1.observe(update_y1_label, 'value')\n",
    "            drY2.observe(update_y2_label, 'value')\n",
    "\n",
    "            draw = widgets.Button(description='Draw')\n",
    "\n",
    "            def onDraw(b):\n",
    "                temp = result.groupby(drX.value, as_index=False)[[drY1.value, drY2.value]].sum()\n",
    "                x = temp[drX.value]\n",
    "                y1 = temp[drY1.value]\n",
    "                y2 = temp[drY2.value]\n",
    "\n",
    "                fig, ax1 = plt.subplots()\n",
    "                ax2 = ax1.twinx()\n",
    "                \n",
    "                if tChart == 'multi: bar-line':\n",
    "                    ax1.bar(x, y1, alpha=0.5, color='g')\n",
    "                elif tChart == 'multi: line-line':\n",
    "                    ax1.plot(x, y1, alpha=0.5, color='g')\n",
    "                \n",
    "                ax2.plot(x, y2)\n",
    "\n",
    "                ax1.set_xticklabels(x, rotation=90)\n",
    "                ax1.set_xlabel(xLabel.value)\n",
    "                ax1.set_ylabel(y1Label.value)\n",
    "                ax2.set_ylabel(y2Label.value)\n",
    "                    \n",
    "                plt.grid(True)\n",
    "                plt.title(title.value)\n",
    "\n",
    "                plt.show()\n",
    "\n",
    "                \n",
    "            draw.on_click(onDraw)\n",
    "\n",
    "            display(widgets.VBox([widgets.HBox([drX, xLabel]), widgets.HBox([drY1, y1Label]), widgets.HBox([drY2, y2Label]), title, draw]))\n",
    "\n",
    "        elif tChart == \"histogram\":\n",
    "            drX = widgets.Dropdown(\n",
    "                    options = result.columns,\n",
    "                    description = 'x-value: ',\n",
    "                    disabled = False,\n",
    "                )\n",
    "\n",
    "            xLabel = widgets.Text(value=drX.value, description='x-label: ')\n",
    "            numBins = widgets.Text(value=\"10\", description='bins: ')\n",
    "\n",
    "            title = widgets.Text(description='Title: ')\n",
    "\n",
    "            def update_x_label(change):\n",
    "                xLabel.value = change.new\n",
    "            \n",
    "            drX.observe(update_x_label, 'value')\n",
    "            \n",
    "            draw = widgets.Button(description='Draw')\n",
    "\n",
    "            def onDraw(b):\n",
    "                plt.hist(result[drX.value], bins=int(numBins.value), edgecolor='black')\n",
    "                \n",
    "                plt.xlabel(xLabel.value)\n",
    "                plt.ylabel(\"Quantities\")\n",
    "                plt.title(title.value)\n",
    "\n",
    "                plt.show()\n",
    "\n",
    "                \n",
    "            draw.on_click(onDraw)\n",
    "\n",
    "            display(widgets.VBox([widgets.HBox([drX, xLabel]), numBins, title, draw]))\n",
    "\n",
    "setChart.on_click(onSet)\n",
    "\n",
    "out = widgets.Output()\n",
    "display(widgets.HBox([typeChart, setChart]))\n",
    "display(out)\n",
    "\n"
   ]
  },
  {
   "attachments": {},
   "cell_type": "markdown",
   "metadata": {},
   "source": [
    "## Conclusion:"
   ]
  },
  {
   "cell_type": "code",
   "execution_count": null,
   "metadata": {},
   "outputs": [],
   "source": []
  }
 ],
 "metadata": {
  "kernelspec": {
   "display_name": "Python 3",
   "language": "python",
   "name": "python3"
  },
  "language_info": {
   "codemirror_mode": {
    "name": "ipython",
    "version": 3
   },
   "file_extension": ".py",
   "mimetype": "text/x-python",
   "name": "python",
   "nbconvert_exporter": "python",
   "pygments_lexer": "ipython3",
   "version": "3.11.0"
  },
  "orig_nbformat": 4
 },
 "nbformat": 4,
 "nbformat_minor": 2
}
